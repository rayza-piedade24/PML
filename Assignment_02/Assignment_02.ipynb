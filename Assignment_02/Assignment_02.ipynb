{
  "cells": [
    {
      "cell_type": "markdown",
      "metadata": {
        "id": "sLLQkQ0KsIwz"
      },
      "source": [
        "<a href=\"https://colab.research.google.com/drive/1wox8ShtJ_bV7CpFO4fwt98ZMVbHu65V-?usp=sharing\" target=\"_parent\"><img src=\"https://colab.research.google.com/assets/colab-badge.svg\" alt=\"Open In Colab\"/></a>"
      ]
    },
    {
      "cell_type": "markdown",
      "metadata": {
        "id": "pY4v_zTJQu6Q"
      },
      "source": [
        "# Assignment 2"
      ]
    },
    {
      "cell_type": "code",
      "execution_count": 1,
      "metadata": {
        "id": "en-fQ1RD3q4f"
      },
      "outputs": [],
      "source": [
        "import pandas as pd\n",
        "import numpy as np\n",
        "import matplotlib.pyplot as plt\n",
        "import seaborn as sns\n",
        "from sklearn.preprocessing import StandardScaler, OneHotEncoder\n",
        "from sklearn.compose import ColumnTransformer\n",
        "from sklearn.pipeline import Pipeline, make_pipeline\n",
        "from sklearn.impute import SimpleImputer\n",
        "from sklearn.metrics import mean_squared_error\n",
        "from sklearn.ensemble import RandomForestRegressor, RandomForestClassifier\n",
        "from sklearn.model_selection import train_test_split, GroupKFold, cross_val_score, learning_curve\n",
        "from sklearn.metrics import classification_report, ConfusionMatrixDisplay, confusion_matrix\n",
        "from sklearn.tree import DecisionTreeClassifier"
      ]
    },
    {
      "cell_type": "code",
      "execution_count": 2,
      "metadata": {
        "colab": {
          "base_uri": "https://localhost:8080/",
          "height": 425
        },
        "id": "7Fv3dIqh4E_n",
        "outputId": "d8580652-cd1f-416f-95cd-df27d8160d24"
      },
      "outputs": [
        {
          "data": {
            "text/html": [
              "<div>\n",
              "<style scoped>\n",
              "    .dataframe tbody tr th:only-of-type {\n",
              "        vertical-align: middle;\n",
              "    }\n",
              "\n",
              "    .dataframe tbody tr th {\n",
              "        vertical-align: top;\n",
              "    }\n",
              "\n",
              "    .dataframe thead th {\n",
              "        text-align: right;\n",
              "    }\n",
              "</style>\n",
              "<table border=\"1\" class=\"dataframe\">\n",
              "  <thead>\n",
              "    <tr style=\"text-align: right;\">\n",
              "      <th></th>\n",
              "      <th>date</th>\n",
              "      <th>rainfall_mm</th>\n",
              "      <th>depth_to_groundwater_m</th>\n",
              "      <th>temperature_C</th>\n",
              "      <th>drainage_m3</th>\n",
              "      <th>river_hydrometry_m</th>\n",
              "    </tr>\n",
              "  </thead>\n",
              "  <tbody>\n",
              "    <tr>\n",
              "      <th>0</th>\n",
              "      <td>14/03/2006</td>\n",
              "      <td>NaN</td>\n",
              "      <td>-22.18</td>\n",
              "      <td>NaN</td>\n",
              "      <td>NaN</td>\n",
              "      <td>NaN</td>\n",
              "    </tr>\n",
              "    <tr>\n",
              "      <th>1</th>\n",
              "      <td>15/03/2006</td>\n",
              "      <td>NaN</td>\n",
              "      <td>-22.14</td>\n",
              "      <td>NaN</td>\n",
              "      <td>NaN</td>\n",
              "      <td>NaN</td>\n",
              "    </tr>\n",
              "    <tr>\n",
              "      <th>2</th>\n",
              "      <td>16/03/2006</td>\n",
              "      <td>NaN</td>\n",
              "      <td>-22.04</td>\n",
              "      <td>NaN</td>\n",
              "      <td>NaN</td>\n",
              "      <td>NaN</td>\n",
              "    </tr>\n",
              "    <tr>\n",
              "      <th>3</th>\n",
              "      <td>17/03/2006</td>\n",
              "      <td>NaN</td>\n",
              "      <td>-22.04</td>\n",
              "      <td>NaN</td>\n",
              "      <td>NaN</td>\n",
              "      <td>NaN</td>\n",
              "    </tr>\n",
              "    <tr>\n",
              "      <th>4</th>\n",
              "      <td>18/03/2006</td>\n",
              "      <td>NaN</td>\n",
              "      <td>-22.04</td>\n",
              "      <td>NaN</td>\n",
              "      <td>NaN</td>\n",
              "      <td>NaN</td>\n",
              "    </tr>\n",
              "    <tr>\n",
              "      <th>5</th>\n",
              "      <td>19/03/2006</td>\n",
              "      <td>NaN</td>\n",
              "      <td>-21.95</td>\n",
              "      <td>NaN</td>\n",
              "      <td>NaN</td>\n",
              "      <td>NaN</td>\n",
              "    </tr>\n",
              "    <tr>\n",
              "      <th>6</th>\n",
              "      <td>20/03/2006</td>\n",
              "      <td>NaN</td>\n",
              "      <td>-21.99</td>\n",
              "      <td>NaN</td>\n",
              "      <td>NaN</td>\n",
              "      <td>NaN</td>\n",
              "    </tr>\n",
              "    <tr>\n",
              "      <th>7</th>\n",
              "      <td>21/03/2006</td>\n",
              "      <td>NaN</td>\n",
              "      <td>-21.89</td>\n",
              "      <td>NaN</td>\n",
              "      <td>NaN</td>\n",
              "      <td>NaN</td>\n",
              "    </tr>\n",
              "    <tr>\n",
              "      <th>8</th>\n",
              "      <td>22/03/2006</td>\n",
              "      <td>NaN</td>\n",
              "      <td>-21.82</td>\n",
              "      <td>NaN</td>\n",
              "      <td>NaN</td>\n",
              "      <td>NaN</td>\n",
              "    </tr>\n",
              "    <tr>\n",
              "      <th>9</th>\n",
              "      <td>23/03/2006</td>\n",
              "      <td>NaN</td>\n",
              "      <td>-21.89</td>\n",
              "      <td>NaN</td>\n",
              "      <td>NaN</td>\n",
              "      <td>NaN</td>\n",
              "    </tr>\n",
              "    <tr>\n",
              "      <th>10</th>\n",
              "      <td>24/03/2006</td>\n",
              "      <td>NaN</td>\n",
              "      <td>-21.89</td>\n",
              "      <td>NaN</td>\n",
              "      <td>NaN</td>\n",
              "      <td>NaN</td>\n",
              "    </tr>\n",
              "    <tr>\n",
              "      <th>11</th>\n",
              "      <td>25/03/2006</td>\n",
              "      <td>NaN</td>\n",
              "      <td>-21.82</td>\n",
              "      <td>NaN</td>\n",
              "      <td>NaN</td>\n",
              "      <td>NaN</td>\n",
              "    </tr>\n",
              "  </tbody>\n",
              "</table>\n",
              "</div>"
            ],
            "text/plain": [
              "          date  rainfall_mm  depth_to_groundwater_m  temperature_C  \\\n",
              "0   14/03/2006          NaN                  -22.18            NaN   \n",
              "1   15/03/2006          NaN                  -22.14            NaN   \n",
              "2   16/03/2006          NaN                  -22.04            NaN   \n",
              "3   17/03/2006          NaN                  -22.04            NaN   \n",
              "4   18/03/2006          NaN                  -22.04            NaN   \n",
              "5   19/03/2006          NaN                  -21.95            NaN   \n",
              "6   20/03/2006          NaN                  -21.99            NaN   \n",
              "7   21/03/2006          NaN                  -21.89            NaN   \n",
              "8   22/03/2006          NaN                  -21.82            NaN   \n",
              "9   23/03/2006          NaN                  -21.89            NaN   \n",
              "10  24/03/2006          NaN                  -21.89            NaN   \n",
              "11  25/03/2006          NaN                  -21.82            NaN   \n",
              "\n",
              "    drainage_m3  river_hydrometry_m  \n",
              "0           NaN                 NaN  \n",
              "1           NaN                 NaN  \n",
              "2           NaN                 NaN  \n",
              "3           NaN                 NaN  \n",
              "4           NaN                 NaN  \n",
              "5           NaN                 NaN  \n",
              "6           NaN                 NaN  \n",
              "7           NaN                 NaN  \n",
              "8           NaN                 NaN  \n",
              "9           NaN                 NaN  \n",
              "10          NaN                 NaN  \n",
              "11          NaN                 NaN  "
            ]
          },
          "execution_count": 2,
          "metadata": {},
          "output_type": "execute_result"
        }
      ],
      "source": [
        "#Read the data\n",
        "data = pd.read_csv('aquifer_time_series.csv')\n",
        "data.head(12)"
      ]
    },
    {
      "cell_type": "code",
      "execution_count": 3,
      "metadata": {
        "id": "RCPg4_lA4ZC_"
      },
      "outputs": [],
      "source": [
        "df= data"
      ]
    },
    {
      "cell_type": "markdown",
      "metadata": {
        "id": "mKYBIGB9-rQR"
      },
      "source": [
        "## Pre-processing the Data"
      ]
    },
    {
      "cell_type": "markdown",
      "metadata": {
        "id": "lTxJ1pe7LLiR"
      },
      "source": [
        "### Handling missing data"
      ]
    },
    {
      "cell_type": "code",
      "execution_count": 4,
      "metadata": {
        "colab": {
          "base_uri": "https://localhost:8080/"
        },
        "id": "U5HHm_h24K1B",
        "outputId": "360afee7-5fd4-41d3-daf0-9e150d46fdbf"
      },
      "outputs": [
        {
          "data": {
            "text/plain": [
              "date                         0\n",
              "rainfall_mm               1024\n",
              "depth_to_groundwater_m      39\n",
              "temperature_C             1024\n",
              "drainage_m3                198\n",
              "river_hydrometry_m        1024\n",
              "dtype: int64"
            ]
          },
          "execution_count": 4,
          "metadata": {},
          "output_type": "execute_result"
        }
      ],
      "source": [
        "df.isna().sum()"
      ]
    },
    {
      "cell_type": "code",
      "execution_count": 5,
      "metadata": {
        "colab": {
          "base_uri": "https://localhost:8080/"
        },
        "collapsed": true,
        "id": "vEXALSz54NOg",
        "outputId": "01c0e5f0-8dd1-4d6a-e200-bca0fac622f0"
      },
      "outputs": [
        {
          "name": "stdout",
          "output_type": "stream",
          "text": [
            "            date  rainfall_mm  depth_to_groundwater_m  temperature_C  \\\n",
            "0     14/03/2006          NaN                  -22.18            NaN   \n",
            "1     15/03/2006          NaN                  -22.14            NaN   \n",
            "2     16/03/2006          NaN                  -22.04            NaN   \n",
            "3     17/03/2006          NaN                  -22.04            NaN   \n",
            "4     18/03/2006          NaN                  -22.04            NaN   \n",
            "...          ...          ...                     ...            ...   \n",
            "1019  27/12/2008          NaN                  -31.50            NaN   \n",
            "1020  28/12/2008          NaN                  -31.41            NaN   \n",
            "1021  29/12/2008          NaN                  -31.37            NaN   \n",
            "1022  30/12/2008          NaN                  -31.39            NaN   \n",
            "1023  31/12/2008          NaN                  -31.33            NaN   \n",
            "\n",
            "      drainage_m3  river_hydrometry_m  \n",
            "0             NaN                 NaN  \n",
            "1             NaN                 NaN  \n",
            "2             NaN                 NaN  \n",
            "3             NaN                 NaN  \n",
            "4             NaN                 NaN  \n",
            "...           ...                 ...  \n",
            "1019   -27844.992                 NaN  \n",
            "1020   -25792.992                 NaN  \n",
            "1021   -27260.928                 NaN  \n",
            "1022   -29258.496                 NaN  \n",
            "1023   -29832.192                 NaN  \n",
            "\n",
            "[1024 rows x 6 columns]\n"
          ]
        }
      ],
      "source": [
        "rain= df[df['rainfall_mm'].isna()]\n",
        "print(rain)"
      ]
    },
    {
      "cell_type": "markdown",
      "metadata": {
        "id": "D6-yML_c5Aqe"
      },
      "source": [
        "Replacing 'na' values with the mean precipitation for 2009 adjusted for each year in accordance to NOAA (2024) data."
      ]
    },
    {
      "cell_type": "code",
      "execution_count": 6,
      "metadata": {
        "colab": {
          "base_uri": "https://localhost:8080/"
        },
        "id": "DXaSe9D-4kHM",
        "outputId": "ef69e1a2-4f48-43c1-a7b8-ca57457b1e56"
      },
      "outputs": [
        {
          "name": "stdout",
          "output_type": "stream",
          "text": [
            "           date  rainfall_mm  depth_to_groundwater_m  temperature_C  \\\n",
            "0    2006-03-14     2.396438                  -22.18            NaN   \n",
            "1    2006-03-15     2.396438                  -22.14            NaN   \n",
            "2    2006-03-16     2.396438                  -22.04            NaN   \n",
            "3    2006-03-17     2.396438                  -22.04            NaN   \n",
            "4    2006-03-18     2.396438                  -22.04            NaN   \n",
            "...         ...          ...                     ...            ...   \n",
            "5218 2020-06-26     0.000000                  -25.07           25.7   \n",
            "5219 2020-06-27     0.000000                  -25.11           26.2   \n",
            "5220 2020-06-28     0.000000                  -25.19           26.9   \n",
            "5221 2020-06-29     0.000000                  -25.18           26.9   \n",
            "5222 2020-06-30     0.000000                  -25.25           27.3   \n",
            "\n",
            "      drainage_m3  river_hydrometry_m  \n",
            "0             NaN                 NaN  \n",
            "1             NaN                 NaN  \n",
            "2             NaN                 NaN  \n",
            "3             NaN                 NaN  \n",
            "4             NaN                 NaN  \n",
            "...           ...                 ...  \n",
            "5218   -29930.688                 2.5  \n",
            "5219   -31332.960                 2.4  \n",
            "5220   -32120.928                 2.4  \n",
            "5221   -30602.880                 2.4  \n",
            "5222   -31878.144                 2.4  \n",
            "\n",
            "[5223 rows x 6 columns]\n",
            "0.7164383561643836\n"
          ]
        },
        {
          "name": "stderr",
          "output_type": "stream",
          "text": [
            "C:\\Users\\Rayza\\AppData\\Local\\Temp\\ipykernel_34352\\3753233902.py:2: UserWarning: Parsing dates in %d/%m/%Y format when dayfirst=False (the default) was specified. Pass `dayfirst=True` or specify a format to silence this warning.\n",
            "  df['date'] = pd.to_datetime(df['date'])\n"
          ]
        }
      ],
      "source": [
        "# Convert the 'date' column to datetime objects\n",
        "df['date'] = pd.to_datetime(df['date'])\n",
        "\n",
        "# Filter data for dates ending in 2009\n",
        "df_2009 = df[df['date'].dt.year == 2009]\n",
        "\n",
        "# Calculate the mean rainfall_mm for 2009\n",
        "mean_rain_2009 = df_2009['rainfall_mm'].mean()\n",
        "\n",
        "# Calculate the mean rainfall_mm for years 2006-2008\n",
        "adj_rain_2008 = mean_rain_2009 + 1.99\n",
        "adj_rain_2007 = mean_rain_2009 + 1.50\n",
        "adj_rain_2006 = mean_rain_2009 + 1.68\n",
        "\n",
        "# Replace NaN values in 'rainfall_mm' for 2006 with adj_rain_2006\n",
        "df.loc[(df['date'].dt.year == 2006) & (df['rainfall_mm'].isna()), 'rainfall_mm'] = adj_rain_2006\n",
        "# Replace NaN values in 'rainfall_mm' for 2007 with adj_rain_2007\n",
        "df.loc[(df['date'].dt.year == 2007) & (df['rainfall_mm'].isna()), 'rainfall_mm'] = adj_rain_2007\n",
        "# Replace NaN values in 'rainfall_mm' for 2008 with adj_rain_2008\n",
        "df.loc[(df['date'].dt.year == 2008) & (df['rainfall_mm'].isna()), 'rainfall_mm'] = adj_rain_2008\n",
        "print(df)\n",
        "print(mean_rain_2009)"
      ]
    },
    {
      "cell_type": "code",
      "execution_count": 7,
      "metadata": {
        "colab": {
          "base_uri": "https://localhost:8080/"
        },
        "collapsed": true,
        "id": "WFhugv5E5pH-",
        "outputId": "779f6005-dae1-4e24-ee39-9edada1ae099"
      },
      "outputs": [
        {
          "name": "stdout",
          "output_type": "stream",
          "text": [
            "           date  rainfall_mm  depth_to_groundwater_m  temperature_C  \\\n",
            "0    2006-03-14     2.396438                  -22.18            NaN   \n",
            "1    2006-03-15     2.396438                  -22.14            NaN   \n",
            "2    2006-03-16     2.396438                  -22.04            NaN   \n",
            "3    2006-03-17     2.396438                  -22.04            NaN   \n",
            "4    2006-03-18     2.396438                  -22.04            NaN   \n",
            "...         ...          ...                     ...            ...   \n",
            "1019 2008-12-27     2.706438                  -31.50            NaN   \n",
            "1020 2008-12-28     2.706438                  -31.41            NaN   \n",
            "1021 2008-12-29     2.706438                  -31.37            NaN   \n",
            "1022 2008-12-30     2.706438                  -31.39            NaN   \n",
            "1023 2008-12-31     2.706438                  -31.33            NaN   \n",
            "\n",
            "      drainage_m3  river_hydrometry_m  \n",
            "0             NaN                 NaN  \n",
            "1             NaN                 NaN  \n",
            "2             NaN                 NaN  \n",
            "3             NaN                 NaN  \n",
            "4             NaN                 NaN  \n",
            "...           ...                 ...  \n",
            "1019   -27844.992                 NaN  \n",
            "1020   -25792.992                 NaN  \n",
            "1021   -27260.928                 NaN  \n",
            "1022   -29258.496                 NaN  \n",
            "1023   -29832.192                 NaN  \n",
            "\n",
            "[1024 rows x 6 columns]\n"
          ]
        }
      ],
      "source": [
        "temp= df[df['temperature_C'].isna()]\n",
        "print(temp)"
      ]
    },
    {
      "cell_type": "markdown",
      "metadata": {
        "id": "eN73wCZ5-PGD"
      },
      "source": [
        "Replacing 'na' values with the mean temperature for 2009 adjusted for each year in accordance to NOAA (2024) data."
      ]
    },
    {
      "cell_type": "code",
      "execution_count": 8,
      "metadata": {
        "colab": {
          "base_uri": "https://localhost:8080/"
        },
        "id": "FU852y2U67ct",
        "outputId": "23c692f9-af4e-45e3-fba9-05b17f193607"
      },
      "outputs": [
        {
          "name": "stdout",
          "output_type": "stream",
          "text": [
            "           date  rainfall_mm  depth_to_groundwater_m  temperature_C  \\\n",
            "0    2006-03-14     2.396438                  -22.18      14.778082   \n",
            "1    2006-03-15     2.396438                  -22.14      14.778082   \n",
            "2    2006-03-16     2.396438                  -22.04      14.778082   \n",
            "3    2006-03-17     2.396438                  -22.04      14.778082   \n",
            "4    2006-03-18     2.396438                  -22.04      14.778082   \n",
            "...         ...          ...                     ...            ...   \n",
            "5218 2020-06-26     0.000000                  -25.07      25.700000   \n",
            "5219 2020-06-27     0.000000                  -25.11      26.200000   \n",
            "5220 2020-06-28     0.000000                  -25.19      26.900000   \n",
            "5221 2020-06-29     0.000000                  -25.18      26.900000   \n",
            "5222 2020-06-30     0.000000                  -25.25      27.300000   \n",
            "\n",
            "      drainage_m3  river_hydrometry_m  \n",
            "0             NaN                 NaN  \n",
            "1             NaN                 NaN  \n",
            "2             NaN                 NaN  \n",
            "3             NaN                 NaN  \n",
            "4             NaN                 NaN  \n",
            "...           ...                 ...  \n",
            "5218   -29930.688                 2.5  \n",
            "5219   -31332.960                 2.4  \n",
            "5220   -32120.928                 2.4  \n",
            "5221   -30602.880                 2.4  \n",
            "5222   -31878.144                 2.4  \n",
            "\n",
            "[5223 rows x 6 columns]\n"
          ]
        }
      ],
      "source": [
        "# Calculate the mean temperature_C for 2009\n",
        "mean_temp_2009 = df_2009['temperature_C'].mean()\n",
        "\n",
        "# Calculate the mean temperature_C for years 2006-2008\n",
        "adj_temp_2008 = mean_temp_2009 - 0.13\n",
        "adj_temp_2007 = mean_temp_2009 - 0.03\n",
        "adj_temp_2006 = mean_temp_2009 - 0.02\n",
        "\n",
        "# Replace NaN values in 'temperature_C' for 2006 with adj_temp_2006\n",
        "df.loc[(df['date'].dt.year == 2006) & (df['temperature_C'].isna()), 'temperature_C'] = adj_temp_2006\n",
        "# Replace NaN values in 'temperature_C' for 2007 with adj_temp_2007\n",
        "df.loc[(df['date'].dt.year == 2007) & (df['temperature_C'].isna()), 'temperature_C'] = adj_temp_2007\n",
        "# Replace NaN values in 'temperature_C' for 2008 with adj_temp_2008\n",
        "df.loc[(df['date'].dt.year == 2008) & (df['temperature_C'].isna()), 'temperature_C'] = adj_temp_2008\n",
        "\n",
        "print(df)\n"
      ]
    },
    {
      "cell_type": "markdown",
      "metadata": {
        "id": "zdJL0CBo-ZQy"
      },
      "source": [
        "Replacing 'na' values for groundwater depth and drainage with the mean precipitation for the corresponding year"
      ]
    },
    {
      "cell_type": "code",
      "execution_count": 9,
      "metadata": {
        "colab": {
          "base_uri": "https://localhost:8080/"
        },
        "id": "p_qVjZXT9caa",
        "outputId": "ea5a58da-a406-462e-b3a5-2ac929c3d70a"
      },
      "outputs": [
        {
          "name": "stdout",
          "output_type": "stream",
          "text": [
            "           date  rainfall_mm  depth_to_groundwater_m  temperature_C  \\\n",
            "0    2006-03-14     2.396438                  -22.18      14.778082   \n",
            "1    2006-03-15     2.396438                  -22.14      14.778082   \n",
            "2    2006-03-16     2.396438                  -22.04      14.778082   \n",
            "3    2006-03-17     2.396438                  -22.04      14.778082   \n",
            "4    2006-03-18     2.396438                  -22.04      14.778082   \n",
            "...         ...          ...                     ...            ...   \n",
            "5218 2020-06-26     0.000000                  -25.07      25.700000   \n",
            "5219 2020-06-27     0.000000                  -25.11      26.200000   \n",
            "5220 2020-06-28     0.000000                  -25.19      26.900000   \n",
            "5221 2020-06-29     0.000000                  -25.18      26.900000   \n",
            "5222 2020-06-30     0.000000                  -25.25      27.300000   \n",
            "\n",
            "      drainage_m3  river_hydrometry_m  \n",
            "0      -33655.914                 NaN  \n",
            "1      -33655.914                 NaN  \n",
            "2      -33655.914                 NaN  \n",
            "3      -33655.914                 NaN  \n",
            "4      -33655.914                 NaN  \n",
            "...           ...                 ...  \n",
            "5218   -29930.688                 2.5  \n",
            "5219   -31332.960                 2.4  \n",
            "5220   -32120.928                 2.4  \n",
            "5221   -30602.880                 2.4  \n",
            "5222   -31878.144                 2.4  \n",
            "\n",
            "[5223 rows x 6 columns]\n"
          ]
        }
      ],
      "source": [
        "for year in df['date'].dt.year.unique():\n",
        "    mean_depth = df[(df['date'].dt.year == year) & (~df['depth_to_groundwater_m'].isna())]['depth_to_groundwater_m'].mean()\n",
        "    # Replace NaN values in 'depth_to_groundwater_m' for the current year with the calculated mean\n",
        "    df.loc[(df['date'].dt.year == year) & (df['depth_to_groundwater_m'].isna()), 'depth_to_groundwater_m'] = mean_depth\n",
        "\n",
        "    mean_drain = df[(df['date'].dt.year == year) & (~df['drainage_m3'].isna())]['drainage_m3'].mean()\n",
        "    # Replace NaN values in 'drainage_m3' for the current year with the calculated mean\n",
        "    df.loc[(df['date'].dt.year == year) & (df['drainage_m3'].isna()), 'drainage_m3'] = mean_drain\n",
        "\n",
        "print(df)"
      ]
    },
    {
      "cell_type": "code",
      "execution_count": 10,
      "metadata": {
        "colab": {
          "base_uri": "https://localhost:8080/"
        },
        "collapsed": true,
        "id": "UQsK2EwQ9KVx",
        "outputId": "7996abdc-95d5-47fa-d3a1-c1e4e43a0056"
      },
      "outputs": [
        {
          "name": "stdout",
          "output_type": "stream",
          "text": [
            "           date  rainfall_mm  depth_to_groundwater_m  temperature_C  \\\n",
            "0    2006-03-14     2.396438                  -22.18      14.778082   \n",
            "1    2006-03-15     2.396438                  -22.14      14.778082   \n",
            "2    2006-03-16     2.396438                  -22.04      14.778082   \n",
            "3    2006-03-17     2.396438                  -22.04      14.778082   \n",
            "4    2006-03-18     2.396438                  -22.04      14.778082   \n",
            "...         ...          ...                     ...            ...   \n",
            "1019 2008-12-27     2.706438                  -31.50      14.668082   \n",
            "1020 2008-12-28     2.706438                  -31.41      14.668082   \n",
            "1021 2008-12-29     2.706438                  -31.37      14.668082   \n",
            "1022 2008-12-30     2.706438                  -31.39      14.668082   \n",
            "1023 2008-12-31     2.706438                  -31.33      14.668082   \n",
            "\n",
            "      drainage_m3  river_hydrometry_m  \n",
            "0      -33655.914                 NaN  \n",
            "1      -33655.914                 NaN  \n",
            "2      -33655.914                 NaN  \n",
            "3      -33655.914                 NaN  \n",
            "4      -33655.914                 NaN  \n",
            "...           ...                 ...  \n",
            "1019   -27844.992                 NaN  \n",
            "1020   -25792.992                 NaN  \n",
            "1021   -27260.928                 NaN  \n",
            "1022   -29258.496                 NaN  \n",
            "1023   -29832.192                 NaN  \n",
            "\n",
            "[1024 rows x 6 columns]\n"
          ]
        }
      ],
      "source": [
        "river= df[df['river_hydrometry_m'].isna()]\n",
        "print(river)"
      ]
    },
    {
      "cell_type": "markdown",
      "metadata": {
        "id": "Lw6f_xHWJMKs"
      },
      "source": [
        "Replacing 'na' values with the mean hydrometry values for for the years which display the most similar precipitaion values to NOAA (2024) data. This means that the missing data between the years 2006-2008 for hydrometry are replaced with estimates, that reflect the relationship between precipitation and river hydrometry."
      ]
    },
    {
      "cell_type": "code",
      "execution_count": 11,
      "metadata": {
        "colab": {
          "base_uri": "https://localhost:8080/"
        },
        "id": "VYQ5iO2jDFr9",
        "outputId": "078e7628-e92b-46dc-a565-9644f2df3c12"
      },
      "outputs": [
        {
          "name": "stdout",
          "output_type": "stream",
          "text": [
            "           date  rainfall_mm  depth_to_groundwater_m  temperature_C  \\\n",
            "0    2006-03-14     2.396438                  -22.18      14.778082   \n",
            "1    2006-03-15     2.396438                  -22.14      14.778082   \n",
            "2    2006-03-16     2.396438                  -22.04      14.778082   \n",
            "3    2006-03-17     2.396438                  -22.04      14.778082   \n",
            "4    2006-03-18     2.396438                  -22.04      14.778082   \n",
            "...         ...          ...                     ...            ...   \n",
            "5218 2020-06-26     0.000000                  -25.07      25.700000   \n",
            "5219 2020-06-27     0.000000                  -25.11      26.200000   \n",
            "5220 2020-06-28     0.000000                  -25.19      26.900000   \n",
            "5221 2020-06-29     0.000000                  -25.18      26.900000   \n",
            "5222 2020-06-30     0.000000                  -25.25      27.300000   \n",
            "\n",
            "      drainage_m3  river_hydrometry_m  \n",
            "0      -33655.914            2.536813  \n",
            "1      -33655.914            2.536813  \n",
            "2      -33655.914            2.536813  \n",
            "3      -33655.914            2.536813  \n",
            "4      -33655.914            2.536813  \n",
            "...           ...                 ...  \n",
            "5218   -29930.688            2.500000  \n",
            "5219   -31332.960            2.400000  \n",
            "5220   -32120.928            2.400000  \n",
            "5221   -30602.880            2.400000  \n",
            "5222   -31878.144            2.400000  \n",
            "\n",
            "[5223 rows x 6 columns]\n"
          ]
        }
      ],
      "source": [
        "df_2011 = df[df['date'].dt.year == 2011]\n",
        "df_2016 = df[df['date'].dt.year == 2016]\n",
        "df_2020 = df[df['date'].dt.year == 2020]\n",
        "# Calculate the river_hydrometry_m for 2009\n",
        "mean_river_2011 = df_2011['river_hydrometry_m'].mean()\n",
        "mean_river_2016 = df_2016['river_hydrometry_m'].mean()\n",
        "mean_river_2020 = df_2020['river_hydrometry_m'].mean()\n",
        "\n",
        "# Calculate the mean river_hydrometry_m for years 2006-2008\n",
        "adj_river_2008 = mean_river_2011\n",
        "adj_river_2007 = mean_river_2016\n",
        "adj_river_2006 = mean_river_2020\n",
        "\n",
        "# Replace NaN values in 'river_hydrometry_m' for 2006 with adj_river_2006\n",
        "df.loc[(df['date'].dt.year == 2006) & (df['river_hydrometry_m'].isna()), 'river_hydrometry_m'] = adj_river_2006\n",
        "# Replace NaN values in 'river_hydrometry_m' for 2007 with adj_river_2007\n",
        "df.loc[(df['date'].dt.year == 2007) & (df['river_hydrometry_m'].isna()), 'river_hydrometry_m'] = adj_river_2007\n",
        "# Replace NaN values in 'river_hydrometry_m' for 2008 with adj_river_2008\n",
        "df.loc[(df['date'].dt.year == 2008) & (df['river_hydrometry_m'].isna()), 'river_hydrometry_m'] = adj_river_2008\n",
        "\n",
        "print(df)"
      ]
    },
    {
      "cell_type": "code",
      "execution_count": 12,
      "metadata": {
        "colab": {
          "base_uri": "https://localhost:8080/"
        },
        "id": "dBkiAotpKKvQ",
        "outputId": "8de6ad14-628f-4a0e-fc57-717751e0354c"
      },
      "outputs": [
        {
          "data": {
            "text/plain": [
              "date                      0\n",
              "rainfall_mm               0\n",
              "depth_to_groundwater_m    0\n",
              "temperature_C             0\n",
              "drainage_m3               0\n",
              "river_hydrometry_m        0\n",
              "dtype: int64"
            ]
          },
          "execution_count": 12,
          "metadata": {},
          "output_type": "execute_result"
        }
      ],
      "source": [
        "df.isna().sum()"
      ]
    },
    {
      "cell_type": "markdown",
      "metadata": {
        "id": "6Of2RauYLUhj"
      },
      "source": [
        "### Formating the Data"
      ]
    },
    {
      "cell_type": "code",
      "execution_count": 13,
      "metadata": {
        "colab": {
          "base_uri": "https://localhost:8080/"
        },
        "id": "4m8L6ms-Lg3O",
        "outputId": "ed017a4b-60e8-4019-a5fe-96d0b04e88bc"
      },
      "outputs": [
        {
          "data": {
            "text/html": [
              "<div>\n",
              "<style scoped>\n",
              "    .dataframe tbody tr th:only-of-type {\n",
              "        vertical-align: middle;\n",
              "    }\n",
              "\n",
              "    .dataframe tbody tr th {\n",
              "        vertical-align: top;\n",
              "    }\n",
              "\n",
              "    .dataframe thead th {\n",
              "        text-align: right;\n",
              "    }\n",
              "</style>\n",
              "<table border=\"1\" class=\"dataframe\">\n",
              "  <thead>\n",
              "    <tr style=\"text-align: right;\">\n",
              "      <th></th>\n",
              "      <th>year</th>\n",
              "      <th>month</th>\n",
              "      <th>rainfall_mm</th>\n",
              "      <th>depth_to_groundwater_m</th>\n",
              "      <th>temperature_C</th>\n",
              "      <th>drainage_m3</th>\n",
              "      <th>river_hydrometry_m</th>\n",
              "      <th>rainfall_mm_lag_1</th>\n",
              "      <th>rainfall_mm_lag_2</th>\n",
              "      <th>rainfall_mm_lag_3</th>\n",
              "      <th>...</th>\n",
              "      <th>drainage_m3_lag_3</th>\n",
              "      <th>drainage_m3_lag_4</th>\n",
              "      <th>drainage_m3_lag_5</th>\n",
              "      <th>drainage_m3_lag_6</th>\n",
              "      <th>drainage_m3_lag_7</th>\n",
              "      <th>drainage_m3_lag_8</th>\n",
              "      <th>drainage_m3_lag_9</th>\n",
              "      <th>drainage_m3_lag_10</th>\n",
              "      <th>drainage_m3_lag_11</th>\n",
              "      <th>drainage_m3_lag_12</th>\n",
              "    </tr>\n",
              "  </thead>\n",
              "  <tbody>\n",
              "    <tr>\n",
              "      <th>0</th>\n",
              "      <td>2007</td>\n",
              "      <td>3</td>\n",
              "      <td>2.216438</td>\n",
              "      <td>-26.290645</td>\n",
              "      <td>14.768082</td>\n",
              "      <td>-28470.137806</td>\n",
              "      <td>2.789344</td>\n",
              "      <td>2.216438</td>\n",
              "      <td>2.216438</td>\n",
              "      <td>2.396438</td>\n",
              "      <td>...</td>\n",
              "      <td>-33476.989935</td>\n",
              "      <td>-34178.832000</td>\n",
              "      <td>-33863.197935</td>\n",
              "      <td>-33103.690800</td>\n",
              "      <td>-33655.914000</td>\n",
              "      <td>-33655.914000</td>\n",
              "      <td>-33655.914000</td>\n",
              "      <td>-33655.914000</td>\n",
              "      <td>-33655.914000</td>\n",
              "      <td>-33655.914000</td>\n",
              "    </tr>\n",
              "    <tr>\n",
              "      <th>1</th>\n",
              "      <td>2007</td>\n",
              "      <td>4</td>\n",
              "      <td>2.216438</td>\n",
              "      <td>-26.149333</td>\n",
              "      <td>14.768082</td>\n",
              "      <td>-30394.483200</td>\n",
              "      <td>2.789344</td>\n",
              "      <td>2.216438</td>\n",
              "      <td>2.216438</td>\n",
              "      <td>2.216438</td>\n",
              "      <td>...</td>\n",
              "      <td>-35619.654194</td>\n",
              "      <td>-33476.989935</td>\n",
              "      <td>-34178.832000</td>\n",
              "      <td>-33863.197935</td>\n",
              "      <td>-33103.690800</td>\n",
              "      <td>-33655.914000</td>\n",
              "      <td>-33655.914000</td>\n",
              "      <td>-33655.914000</td>\n",
              "      <td>-33655.914000</td>\n",
              "      <td>-33655.914000</td>\n",
              "    </tr>\n",
              "    <tr>\n",
              "      <th>2</th>\n",
              "      <td>2007</td>\n",
              "      <td>5</td>\n",
              "      <td>2.216438</td>\n",
              "      <td>-26.015103</td>\n",
              "      <td>14.768082</td>\n",
              "      <td>-28765.402839</td>\n",
              "      <td>2.789344</td>\n",
              "      <td>2.216438</td>\n",
              "      <td>2.216438</td>\n",
              "      <td>2.216438</td>\n",
              "      <td>...</td>\n",
              "      <td>-32426.537143</td>\n",
              "      <td>-35619.654194</td>\n",
              "      <td>-33476.989935</td>\n",
              "      <td>-34178.832000</td>\n",
              "      <td>-33863.197935</td>\n",
              "      <td>-33103.690800</td>\n",
              "      <td>-33655.914000</td>\n",
              "      <td>-33655.914000</td>\n",
              "      <td>-33655.914000</td>\n",
              "      <td>-33655.914000</td>\n",
              "    </tr>\n",
              "    <tr>\n",
              "      <th>3</th>\n",
              "      <td>2007</td>\n",
              "      <td>6</td>\n",
              "      <td>2.216438</td>\n",
              "      <td>-26.538333</td>\n",
              "      <td>14.768082</td>\n",
              "      <td>-33333.868800</td>\n",
              "      <td>2.789344</td>\n",
              "      <td>2.216438</td>\n",
              "      <td>2.216438</td>\n",
              "      <td>2.216438</td>\n",
              "      <td>...</td>\n",
              "      <td>-28470.137806</td>\n",
              "      <td>-32426.537143</td>\n",
              "      <td>-35619.654194</td>\n",
              "      <td>-33476.989935</td>\n",
              "      <td>-34178.832000</td>\n",
              "      <td>-33863.197935</td>\n",
              "      <td>-33103.690800</td>\n",
              "      <td>-33655.914000</td>\n",
              "      <td>-33655.914000</td>\n",
              "      <td>-33655.914000</td>\n",
              "    </tr>\n",
              "    <tr>\n",
              "      <th>4</th>\n",
              "      <td>2007</td>\n",
              "      <td>7</td>\n",
              "      <td>2.216438</td>\n",
              "      <td>-27.920000</td>\n",
              "      <td>14.768082</td>\n",
              "      <td>-42091.655226</td>\n",
              "      <td>2.789344</td>\n",
              "      <td>2.216438</td>\n",
              "      <td>2.216438</td>\n",
              "      <td>2.216438</td>\n",
              "      <td>...</td>\n",
              "      <td>-30394.483200</td>\n",
              "      <td>-28470.137806</td>\n",
              "      <td>-32426.537143</td>\n",
              "      <td>-35619.654194</td>\n",
              "      <td>-33476.989935</td>\n",
              "      <td>-34178.832000</td>\n",
              "      <td>-33863.197935</td>\n",
              "      <td>-33103.690800</td>\n",
              "      <td>-33655.914000</td>\n",
              "      <td>-33655.914000</td>\n",
              "    </tr>\n",
              "    <tr>\n",
              "      <th>...</th>\n",
              "      <td>...</td>\n",
              "      <td>...</td>\n",
              "      <td>...</td>\n",
              "      <td>...</td>\n",
              "      <td>...</td>\n",
              "      <td>...</td>\n",
              "      <td>...</td>\n",
              "      <td>...</td>\n",
              "      <td>...</td>\n",
              "      <td>...</td>\n",
              "      <td>...</td>\n",
              "      <td>...</td>\n",
              "      <td>...</td>\n",
              "      <td>...</td>\n",
              "      <td>...</td>\n",
              "      <td>...</td>\n",
              "      <td>...</td>\n",
              "      <td>...</td>\n",
              "      <td>...</td>\n",
              "      <td>...</td>\n",
              "      <td>...</td>\n",
              "    </tr>\n",
              "    <tr>\n",
              "      <th>155</th>\n",
              "      <td>2020</td>\n",
              "      <td>2</td>\n",
              "      <td>0.641379</td>\n",
              "      <td>-25.261724</td>\n",
              "      <td>8.989655</td>\n",
              "      <td>-28354.096552</td>\n",
              "      <td>2.420690</td>\n",
              "      <td>0.496774</td>\n",
              "      <td>1.838710</td>\n",
              "      <td>4.946667</td>\n",
              "      <td>...</td>\n",
              "      <td>-26862.825600</td>\n",
              "      <td>-26346.453677</td>\n",
              "      <td>-27027.417600</td>\n",
              "      <td>-18158.353548</td>\n",
              "      <td>-19681.836387</td>\n",
              "      <td>-23556.009600</td>\n",
              "      <td>-22416.312774</td>\n",
              "      <td>-24255.676800</td>\n",
              "      <td>-25842.546581</td>\n",
              "      <td>-26068.916571</td>\n",
              "    </tr>\n",
              "    <tr>\n",
              "      <th>156</th>\n",
              "      <td>2020</td>\n",
              "      <td>3</td>\n",
              "      <td>2.264516</td>\n",
              "      <td>-24.970812</td>\n",
              "      <td>9.758065</td>\n",
              "      <td>-26783.275355</td>\n",
              "      <td>2.722581</td>\n",
              "      <td>0.641379</td>\n",
              "      <td>0.496774</td>\n",
              "      <td>1.838710</td>\n",
              "      <td>...</td>\n",
              "      <td>-23976.390194</td>\n",
              "      <td>-26862.825600</td>\n",
              "      <td>-26346.453677</td>\n",
              "      <td>-27027.417600</td>\n",
              "      <td>-18158.353548</td>\n",
              "      <td>-19681.836387</td>\n",
              "      <td>-23556.009600</td>\n",
              "      <td>-22416.312774</td>\n",
              "      <td>-24255.676800</td>\n",
              "      <td>-25842.546581</td>\n",
              "    </tr>\n",
              "    <tr>\n",
              "      <th>157</th>\n",
              "      <td>2020</td>\n",
              "      <td>4</td>\n",
              "      <td>1.386667</td>\n",
              "      <td>-24.814835</td>\n",
              "      <td>14.016667</td>\n",
              "      <td>-24634.598400</td>\n",
              "      <td>2.500000</td>\n",
              "      <td>2.264516</td>\n",
              "      <td>0.641379</td>\n",
              "      <td>0.496774</td>\n",
              "      <td>...</td>\n",
              "      <td>-27106.272000</td>\n",
              "      <td>-23976.390194</td>\n",
              "      <td>-26862.825600</td>\n",
              "      <td>-26346.453677</td>\n",
              "      <td>-27027.417600</td>\n",
              "      <td>-18158.353548</td>\n",
              "      <td>-19681.836387</td>\n",
              "      <td>-23556.009600</td>\n",
              "      <td>-22416.312774</td>\n",
              "      <td>-24255.676800</td>\n",
              "    </tr>\n",
              "    <tr>\n",
              "      <th>158</th>\n",
              "      <td>2020</td>\n",
              "      <td>5</td>\n",
              "      <td>1.470968</td>\n",
              "      <td>-24.716774</td>\n",
              "      <td>18.754839</td>\n",
              "      <td>-24104.067097</td>\n",
              "      <td>2.470968</td>\n",
              "      <td>1.386667</td>\n",
              "      <td>2.264516</td>\n",
              "      <td>0.641379</td>\n",
              "      <td>...</td>\n",
              "      <td>-28354.096552</td>\n",
              "      <td>-27106.272000</td>\n",
              "      <td>-23976.390194</td>\n",
              "      <td>-26862.825600</td>\n",
              "      <td>-26346.453677</td>\n",
              "      <td>-27027.417600</td>\n",
              "      <td>-18158.353548</td>\n",
              "      <td>-19681.836387</td>\n",
              "      <td>-23556.009600</td>\n",
              "      <td>-22416.312774</td>\n",
              "    </tr>\n",
              "    <tr>\n",
              "      <th>159</th>\n",
              "      <td>2020</td>\n",
              "      <td>6</td>\n",
              "      <td>2.333333</td>\n",
              "      <td>-24.815333</td>\n",
              "      <td>21.176667</td>\n",
              "      <td>-27467.451368</td>\n",
              "      <td>2.593333</td>\n",
              "      <td>1.470968</td>\n",
              "      <td>1.386667</td>\n",
              "      <td>2.264516</td>\n",
              "      <td>...</td>\n",
              "      <td>-26783.275355</td>\n",
              "      <td>-28354.096552</td>\n",
              "      <td>-27106.272000</td>\n",
              "      <td>-23976.390194</td>\n",
              "      <td>-26862.825600</td>\n",
              "      <td>-26346.453677</td>\n",
              "      <td>-27027.417600</td>\n",
              "      <td>-18158.353548</td>\n",
              "      <td>-19681.836387</td>\n",
              "      <td>-23556.009600</td>\n",
              "    </tr>\n",
              "  </tbody>\n",
              "</table>\n",
              "<p>160 rows × 55 columns</p>\n",
              "</div>"
            ],
            "text/plain": [
              "     year  month  rainfall_mm  depth_to_groundwater_m  temperature_C  \\\n",
              "0    2007      3     2.216438              -26.290645      14.768082   \n",
              "1    2007      4     2.216438              -26.149333      14.768082   \n",
              "2    2007      5     2.216438              -26.015103      14.768082   \n",
              "3    2007      6     2.216438              -26.538333      14.768082   \n",
              "4    2007      7     2.216438              -27.920000      14.768082   \n",
              "..    ...    ...          ...                     ...            ...   \n",
              "155  2020      2     0.641379              -25.261724       8.989655   \n",
              "156  2020      3     2.264516              -24.970812       9.758065   \n",
              "157  2020      4     1.386667              -24.814835      14.016667   \n",
              "158  2020      5     1.470968              -24.716774      18.754839   \n",
              "159  2020      6     2.333333              -24.815333      21.176667   \n",
              "\n",
              "      drainage_m3  river_hydrometry_m  rainfall_mm_lag_1  rainfall_mm_lag_2  \\\n",
              "0   -28470.137806            2.789344           2.216438           2.216438   \n",
              "1   -30394.483200            2.789344           2.216438           2.216438   \n",
              "2   -28765.402839            2.789344           2.216438           2.216438   \n",
              "3   -33333.868800            2.789344           2.216438           2.216438   \n",
              "4   -42091.655226            2.789344           2.216438           2.216438   \n",
              "..            ...                 ...                ...                ...   \n",
              "155 -28354.096552            2.420690           0.496774           1.838710   \n",
              "156 -26783.275355            2.722581           0.641379           0.496774   \n",
              "157 -24634.598400            2.500000           2.264516           0.641379   \n",
              "158 -24104.067097            2.470968           1.386667           2.264516   \n",
              "159 -27467.451368            2.593333           1.470968           1.386667   \n",
              "\n",
              "     rainfall_mm_lag_3  ...  drainage_m3_lag_3  drainage_m3_lag_4  \\\n",
              "0             2.396438  ...      -33476.989935      -34178.832000   \n",
              "1             2.216438  ...      -35619.654194      -33476.989935   \n",
              "2             2.216438  ...      -32426.537143      -35619.654194   \n",
              "3             2.216438  ...      -28470.137806      -32426.537143   \n",
              "4             2.216438  ...      -30394.483200      -28470.137806   \n",
              "..                 ...  ...                ...                ...   \n",
              "155           4.946667  ...      -26862.825600      -26346.453677   \n",
              "156           1.838710  ...      -23976.390194      -26862.825600   \n",
              "157           0.496774  ...      -27106.272000      -23976.390194   \n",
              "158           0.641379  ...      -28354.096552      -27106.272000   \n",
              "159           2.264516  ...      -26783.275355      -28354.096552   \n",
              "\n",
              "     drainage_m3_lag_5  drainage_m3_lag_6  drainage_m3_lag_7  \\\n",
              "0        -33863.197935      -33103.690800      -33655.914000   \n",
              "1        -34178.832000      -33863.197935      -33103.690800   \n",
              "2        -33476.989935      -34178.832000      -33863.197935   \n",
              "3        -35619.654194      -33476.989935      -34178.832000   \n",
              "4        -32426.537143      -35619.654194      -33476.989935   \n",
              "..                 ...                ...                ...   \n",
              "155      -27027.417600      -18158.353548      -19681.836387   \n",
              "156      -26346.453677      -27027.417600      -18158.353548   \n",
              "157      -26862.825600      -26346.453677      -27027.417600   \n",
              "158      -23976.390194      -26862.825600      -26346.453677   \n",
              "159      -27106.272000      -23976.390194      -26862.825600   \n",
              "\n",
              "     drainage_m3_lag_8  drainage_m3_lag_9  drainage_m3_lag_10  \\\n",
              "0        -33655.914000      -33655.914000       -33655.914000   \n",
              "1        -33655.914000      -33655.914000       -33655.914000   \n",
              "2        -33103.690800      -33655.914000       -33655.914000   \n",
              "3        -33863.197935      -33103.690800       -33655.914000   \n",
              "4        -34178.832000      -33863.197935       -33103.690800   \n",
              "..                 ...                ...                 ...   \n",
              "155      -23556.009600      -22416.312774       -24255.676800   \n",
              "156      -19681.836387      -23556.009600       -22416.312774   \n",
              "157      -18158.353548      -19681.836387       -23556.009600   \n",
              "158      -27027.417600      -18158.353548       -19681.836387   \n",
              "159      -26346.453677      -27027.417600       -18158.353548   \n",
              "\n",
              "     drainage_m3_lag_11  drainage_m3_lag_12  \n",
              "0         -33655.914000       -33655.914000  \n",
              "1         -33655.914000       -33655.914000  \n",
              "2         -33655.914000       -33655.914000  \n",
              "3         -33655.914000       -33655.914000  \n",
              "4         -33655.914000       -33655.914000  \n",
              "..                  ...                 ...  \n",
              "155       -25842.546581       -26068.916571  \n",
              "156       -24255.676800       -25842.546581  \n",
              "157       -22416.312774       -24255.676800  \n",
              "158       -23556.009600       -22416.312774  \n",
              "159       -19681.836387       -23556.009600  \n",
              "\n",
              "[160 rows x 55 columns]"
            ]
          },
          "execution_count": 13,
          "metadata": {},
          "output_type": "execute_result"
        }
      ],
      "source": [
        "def format_data(df):\n",
        "\n",
        "  # Extract month and year\n",
        "  df['month'] = df['date'].dt.month\n",
        "  df['year'] = df['date'].dt.year\n",
        "\n",
        "  # Drop the original 'date' column\n",
        "  df = df.drop('date', axis=1)\n",
        "\n",
        "  #Grouping data by month and year\n",
        "\n",
        "  # Group data by year and month, then calculate the mean for each column\n",
        "  df = df.groupby(['year', 'month']).mean().reset_index()\n",
        "\n",
        "  for col in ['rainfall_mm', 'temperature_C', 'river_hydrometry_m', 'drainage_m3']:\n",
        "          for lag in range(1, 13):\n",
        "              df[f'{col}_lag_{lag}'] = df[col].shift(lag)\n",
        "\n",
        "  ds = df.dropna().reset_index(drop=True)\n",
        "  return ds\n",
        "\n",
        "ds = format_data(df)\n",
        "ds\n"
      ]
    },
    {
      "cell_type": "markdown",
      "metadata": {
        "id": "ci03SxsJPZW3"
      },
      "source": [
        "The final clean dataset is referred to as ds."
      ]
    },
    {
      "cell_type": "markdown",
      "metadata": {
        "id": "kPKDclOqYkz0"
      },
      "source": [
        "### Pipeline"
      ]
    },
    {
      "cell_type": "code",
      "execution_count": 14,
      "metadata": {
        "id": "FzaDAwewWj8P"
      },
      "outputs": [],
      "source": [
        "def make_pipeline(ds):\n",
        "\n",
        "  # Define features for the regression\n",
        "  numeric_features = [col for col in data.columns if '_lag_' in col] + ['rainfall_mm', 'temperature_C', 'river_hydrometry_m', 'drainage_m3', 'month', 'year']\n",
        "  # Create transformers\n",
        "  numeric_transformer = Pipeline(steps=[\n",
        "      ('imputer', SimpleImputer(strategy='median')),\n",
        "      ('scaler', StandardScaler())\n",
        "      ])\n",
        "  \n",
        "  # Combine transformers using ColumnTransformer\n",
        "  preprocessor = ColumnTransformer(\n",
        "      transformers=[\n",
        "          ('num', numeric_transformer, numeric_features)\n",
        "      ])\n",
        "\n",
        "  # Create the pipeline\n",
        "  pipeline = Pipeline(steps=[\n",
        "      ('preprocessor', preprocessor),\n",
        "      ('regressor', RandomForestRegressor(random_state=42,n_estimators=100, n_jobs=-1, max_depth=4))\n",
        "  ])\n",
        "\n",
        "\n",
        "  return pipeline\n",
        "\n"
      ]
    },
    {
      "cell_type": "markdown",
      "metadata": {
        "id": "k1yMYnYzY03v"
      },
      "source": [
        "## Modelling the Data"
      ]
    },
    {
      "cell_type": "markdown",
      "metadata": {
        "id": "amvZ7cfJm5gG"
      },
      "source": [
        "### Model's main code"
      ]
    },
    {
      "cell_type": "code",
      "execution_count": 15,
      "metadata": {
        "colab": {
          "base_uri": "https://localhost:8080/"
        },
        "id": "A15_LfVpkHYU",
        "outputId": "99948093-0440-4df0-e2fb-2189a1efc9c0"
      },
      "outputs": [
        {
          "name": "stdout",
          "output_type": "stream",
          "text": [
            "(Pipeline(steps=[('preprocessor',\n",
            "                 ColumnTransformer(transformers=[('num',\n",
            "                                                  Pipeline(steps=[('imputer',\n",
            "                                                                   SimpleImputer(strategy='median')),\n",
            "                                                                  ('scaler',\n",
            "                                                                   StandardScaler())]),\n",
            "                                                  ['rainfall_mm',\n",
            "                                                   'temperature_C',\n",
            "                                                   'river_hydrometry_m',\n",
            "                                                   'drainage_m3', 'month',\n",
            "                                                   'year'])])),\n",
            "                ('regressor',\n",
            "                 RandomForestRegressor(max_depth=4, n_jobs=-1,\n",
            "                                       random_state=42))]), array([-23.89668631, -23.84558265, -26.02805209, -27.80032798,\n",
            "       -22.4603241 , -27.74927052, -21.66080253, -24.95075985,\n",
            "       -21.69444216, -25.83774692, -31.54114185, -22.648275  ,\n",
            "       -30.12667446, -28.2260346 , -27.45240418, -27.81286809,\n",
            "       -25.37700213, -25.15496438, -21.97285793, -30.51946477,\n",
            "       -25.07546052, -31.27568484, -29.93873613, -29.38016135,\n",
            "       -28.361032  , -25.72539218, -22.05767681, -27.25142783,\n",
            "       -25.16708768, -22.07080753, -25.38572863, -25.13912355,\n",
            "       -28.30391983, -24.03196591, -27.37675644, -24.93089695,\n",
            "       -27.63383886, -25.63505084, -28.19390736, -21.69008969,\n",
            "       -27.44936435, -25.65207724, -22.91156324, -21.94830264,\n",
            "       -25.01248244, -26.04435452, -26.35089284, -27.91470496,\n",
            "       -25.09018041, -28.80780964, -23.91150085, -30.57737289,\n",
            "       -28.88728819, -21.91180872, -28.31580203, -27.1976708 ]), 54)\n"
          ]
        }
      ],
      "source": [
        "def main():\n",
        "\n",
        "  # Prepare data for the pipeline\n",
        "  X = ds.drop('depth_to_groundwater_m', axis=1) \n",
        "  y = ds['depth_to_groundwater_m'] \n",
        "\n",
        "  #Split data\n",
        "  X_train, X_test, y_train, y_test = train_test_split(X, y, test_size=0.35, random_state=42)\n",
        "\n",
        "  # Initialize and train the RandomForestRegressor model\n",
        "  model = make_pipeline(ds)\n",
        "  model.fit(X_train, y_train)\n",
        "\n",
        "  # Make predictions\n",
        "  y_pred = model.predict(X_test)\n",
        "\n",
        "  # Calculate the input and output sizes\n",
        "  input_size = X.shape[1]\n",
        "  output_size = 1\n",
        "\n",
        "  return model, y_pred, input_size, output_size, X_train, X_test, y_train, y_test\n",
        "\n",
        "pipeline = make_pipeline(ds)\n",
        "y_pred, input_size, output_size, *_= main()\n",
        "\n",
        "model_pred = y_pred, input_size, output_size\n",
        "print(model_pred)"
      ]
    },
    {
      "cell_type": "code",
      "execution_count": 16,
      "metadata": {
        "colab": {
          "base_uri": "https://localhost:8080/"
        },
        "id": "GfDHtbWrMDnf",
        "outputId": "44725797-7ffb-4e0e-b0cf-77d69cdc67fc"
      },
      "outputs": [
        {
          "name": "stdout",
          "output_type": "stream",
          "text": [
            "Cross-validated scores: [  0.1716227    0.36404902  -0.51655736  -0.41422668  -0.08052925\n",
            " -13.17429843  -3.93187103  -4.93972754  -6.66599381 -11.84809381]\n",
            "Average score: -4.103562618783604\n",
            "None\n"
          ]
        }
      ],
      "source": [
        "def cross_validation(X, y, groups, n_splits=10, random_state=42):\n",
        "    \n",
        "    model = make_pipeline(ds)\n",
        "    cv = GroupKFold(n_splits=n_splits)\n",
        "    scores = cross_val_score(model, X, y, cv=cv, groups=groups)\n",
        "    \n",
        "    print(\"Cross-validated scores:\", scores)\n",
        "    print(\"Average score:\", np.mean(scores))\n",
        "    \n",
        "\n",
        "X = ds.drop('depth_to_groundwater_m', axis=1)\n",
        "y = ds['depth_to_groundwater_m']\n",
        "groups = ds['year']\n",
        "\n",
        "    \n",
        "print(cross_validation(X, y, groups))"
      ]
    },
    {
      "cell_type": "markdown",
      "metadata": {
        "id": "w6gtQjbs4EDk"
      },
      "source": [
        "### Evaluating my model"
      ]
    },
    {
      "cell_type": "code",
      "execution_count": 17,
      "metadata": {
        "colab": {
          "base_uri": "https://localhost:8080/",
          "height": 449
        },
        "id": "n7cqUywmm1q7",
        "outputId": "42a6f2ff-734e-4c51-add8-1cb47b897fdd"
      },
      "outputs": [
        {
          "data": {
            "image/png": "[encoded data removed]",
            "text/plain": [
              "<Figure size 640x480 with 2 Axes>"
            ]
          },
          "metadata": {},
          "output_type": "display_data"
        }
      ],
      "source": [
        "def plot_confusion_matrix(y_true, y_pred):\n",
        "    cm = confusion_matrix(y_true, y_pred)\n",
        "    disp = ConfusionMatrixDisplay(confusion_matrix=cm, display_labels=['Below Mean', 'Above Mean'])\n",
        "    disp.plot()\n",
        "    plt.show()\n",
        "\n",
        "\n",
        "model, y_pred, input_size, output_size, X_train, X_test, y_train, y_test = main()\n",
        "\n",
        "threshold = np.mean(y_test)\n",
        "y_pred_cat = (y_pred > threshold).astype(int)\n",
        "y_test_cat = (y_test > threshold).astype(int)\n",
        "\n",
        "plot_confusion_matrix(y_test_cat, y_pred_cat)\n",
        "\n"
      ]
    },
    {
      "cell_type": "code",
      "execution_count": 18,
      "metadata": {
        "colab": {
          "base_uri": "https://localhost:8080/",
          "height": 564
        },
        "id": "KTthClb9RMev",
        "outputId": "65d3632a-0771-4a56-be7f-1ef7a643be6b"
      },
      "outputs": [
        {
          "data": {
            "image/png": "[encoded data removed]",
            "text/plain": [
              "<Figure size 800x600 with 1 Axes>"
            ]
          },
          "metadata": {},
          "output_type": "display_data"
        }
      ],
      "source": [
        "# === Plot Actual vs Predicted ===\n",
        "plt.figure(figsize=(8,6))\n",
        "plt.scatter(y_test, y_pred, alpha=0.7)\n",
        "plt.plot([y_test.min(), y_test.max()], [y_test.min(), y_test.max()], 'r--')\n",
        "plt.xlabel(\"Actual\")\n",
        "plt.ylabel(\"Predicted\")\n",
        "plt.title(\"Actual vs. Predicted Depth to Groundwater\")\n",
        "plt.grid(True)\n",
        "plt.show()"
      ]
    }
  ],
  "metadata": {
    "colab": {
      "collapsed_sections": [
        "lTxJ1pe7LLiR"
      ],
      "provenance": [],
      "toc_visible": true
    },
    "kernelspec": {
      "display_name": "Python 3",
      "name": "python3"
    },
    "language_info": {
      "codemirror_mode": {
        "name": "ipython",
        "version": 3
      },
      "file_extension": ".py",
      "mimetype": "text/x-python",
      "name": "python",
      "nbconvert_exporter": "python",
      "pygments_lexer": "ipython3",
      "version": "3.13.0"
    }
  },
  "nbformat": 4,
  "nbformat_minor": 0
}
